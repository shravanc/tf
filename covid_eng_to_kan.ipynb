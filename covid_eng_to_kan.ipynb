{
  "nbformat": 4,
  "nbformat_minor": 0,
  "metadata": {
    "colab": {
      "name": "covid-eng-to-kan.ipynb",
      "provenance": [],
      "collapsed_sections": [],
      "authorship_tag": "ABX9TyOUO3kzGCV3qmEQXwKb3xCq",
      "include_colab_link": true
    },
    "kernelspec": {
      "name": "python3",
      "display_name": "Python 3"
    },
    "accelerator": "GPU"
  },
  "cells": [
    {
      "cell_type": "markdown",
      "metadata": {
        "id": "view-in-github",
        "colab_type": "text"
      },
      "source": [
        "<a href=\"https://colab.research.google.com/github/shravanc/tf/blob/master/covid_eng_to_kan.ipynb\" target=\"_parent\"><img src=\"https://colab.research.google.com/assets/colab-badge.svg\" alt=\"Open In Colab\"/></a>"
      ]
    },
    {
      "cell_type": "code",
      "metadata": {
        "id": "hDOtmkCxzqaA",
        "colab_type": "code",
        "colab": {}
      },
      "source": [
        "# Install textbolob\n",
        "!pip install textblob\n",
        "\n",
        "\n",
        "# Import Libraries\n",
        "from textblob import TextBlob\n",
        "import os\n",
        "import csv\n",
        "\n",
        "\n",
        "# upload file\n",
        "from google.colab import files\n",
        "uploaded = files.upload()\n",
        "\n",
        "# get file\n",
        "all_files = os.listdir('.')\n",
        "file_name = \"\"\n",
        "for f in all_files:\n",
        "  if \".csv\" in f:\n",
        "    file_name = f\n",
        "\n",
        "\n",
        "# Read and write the translation\n",
        "kan_file_name = f\"kan_{file_name}\"\n",
        "new_file = open(kan_file_name, mode=\"w\")\n",
        "writer = csv.writer(new_file, delimiter=',', quotechar='\"', quoting=csv.QUOTE_MINIMAL)\n",
        "with open(file_name) as csv_file:\n",
        "  reader = csv.reader(csv_file, delimiter=',')\n",
        "  for i, row in enumerate(reader):\n",
        "    #print(i)\n",
        "    try:\n",
        "      text = row[0]\n",
        "      eng = TextBlob(text)\n",
        "      kan_trans = str(eng.translate(to='kn'))\n",
        "      writer.writerow([kan_trans, row[1]])\n",
        "    except:\n",
        "      continue\n",
        "\n",
        "new_file.close()\n",
        "\n",
        "\n",
        "from google.colab import files\n",
        "files.download(kan_file_name)\n",
        "\n"
      ],
      "execution_count": null,
      "outputs": []
    },
    {
      "cell_type": "code",
      "metadata": {
        "id": "CwxsfFFi2lao",
        "colab_type": "code",
        "colab": {}
      },
      "source": [
        ""
      ],
      "execution_count": null,
      "outputs": []
    }
  ]
}